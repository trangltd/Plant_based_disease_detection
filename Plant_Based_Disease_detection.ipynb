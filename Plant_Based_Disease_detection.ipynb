{
  "nbformat": 4,
  "nbformat_minor": 0,
  "metadata": {
    "colab": {
      "name": "Plant_Based_Disease_detection.ipynb",
      "provenance": [],
      "collapsed_sections": [],
      "authorship_tag": "ABX9TyNFfutmDoNQFQ6kxhA0Dznv",
      "include_colab_link": true
    },
    "kernelspec": {
      "name": "python3",
      "display_name": "Python 3"
    },
    "accelerator": "GPU"
  },
  "cells": [
    {
      "cell_type": "markdown",
      "metadata": {
        "id": "view-in-github",
        "colab_type": "text"
      },
      "source": [
        "<a href=\"https://colab.research.google.com/github/Amitrk619/Plant-based-disease-detection/blob/main/Plant_Based_Disease_detection.ipynb\" target=\"_parent\"><img src=\"https://colab.research.google.com/assets/colab-badge.svg\" alt=\"Open In Colab\"/></a>"
      ]
    },
    {
      "cell_type": "markdown",
      "metadata": {
        "id": "gkn6E4xnQdki"
      },
      "source": [
        ""
      ]
    },
    {
      "cell_type": "code",
      "metadata": {
        "id": "43XRa0VjfZ7t",
        "colab": {
          "base_uri": "https://localhost:8080/",
          "height": 122
        },
        "outputId": "c6d6575d-b5dd-49a2-e47b-e6e4936e9dca"
      },
      "source": [
        "from google.colab import drive\n",
        "drive.mount('/content/gdrive')\n"
      ],
      "execution_count": null,
      "outputs": [
        {
          "output_type": "stream",
          "text": [
            "Go to this URL in a browser: https://accounts.google.com/o/oauth2/auth?client_id=947318989803-6bn6qk8qdgf4n4g3pfee6491hc0brc4i.apps.googleusercontent.com&redirect_uri=urn%3aietf%3awg%3aoauth%3a2.0%3aoob&response_type=code&scope=email%20https%3a%2f%2fwww.googleapis.com%2fauth%2fdocs.test%20https%3a%2f%2fwww.googleapis.com%2fauth%2fdrive%20https%3a%2f%2fwww.googleapis.com%2fauth%2fdrive.photos.readonly%20https%3a%2f%2fwww.googleapis.com%2fauth%2fpeopleapi.readonly\n",
            "\n",
            "Enter your authorization code:\n",
            "··········\n",
            "Mounted at /content/gdrive\n"
          ],
          "name": "stdout"
        }
      ]
    },
    {
      "cell_type": "markdown",
      "metadata": {
        "id": "tti2odCmSgq3"
      },
      "source": [
        "# New Section"
      ]
    },
    {
      "cell_type": "markdown",
      "metadata": {
        "id": "GeOBX14mQsgQ"
      },
      "source": [
        ""
      ]
    },
    {
      "cell_type": "markdown",
      "metadata": {
        "id": "2U1cuf_rAzuf"
      },
      "source": [
        "# Connect with Google Drive \n",
        "\n",
        "In below section we connect with google drive and mount it with our colab notebook."
      ]
    },
    {
      "cell_type": "code",
      "metadata": {
        "id": "2cc8PG7zSj5P",
        "colab": {
          "base_uri": "https://localhost:8080/",
          "height": 34
        },
        "outputId": "215e691a-f167-4076-f2ce-4fc67d5f5087"
      },
      "source": [
        "from google.colab import drive\n",
        "drive.mount('/content/drive')"
      ],
      "execution_count": null,
      "outputs": [
        {
          "output_type": "stream",
          "text": [
            "Mounted at /content/drive\n"
          ],
          "name": "stdout"
        }
      ]
    },
    {
      "cell_type": "markdown",
      "metadata": {
        "id": "8oi3dDjKQ3eX"
      },
      "source": [
        "Tensor 2.0 Installation"
      ]
    },
    {
      "cell_type": "code",
      "metadata": {
        "id": "1rmtBQ1yfwSH",
        "colab": {
          "base_uri": "https://localhost:8080/",
          "height": 530
        },
        "outputId": "d0a4dd96-f837-4a1b-a84e-655435780465"
      },
      "source": [
        "!pip install tensorflow-gpu==2.0.0-alpha0\n"
      ],
      "execution_count": null,
      "outputs": [
        {
          "output_type": "stream",
          "text": [
            "Collecting tensorflow-gpu==2.0.0-alpha0\n",
            "\u001b[?25l  Downloading https://files.pythonhosted.org/packages/1a/66/32cffad095253219d53f6b6c2a436637bbe45ac4e7be0244557210dc3918/tensorflow_gpu-2.0.0a0-cp36-cp36m-manylinux1_x86_64.whl (332.1MB)\n",
            "\u001b[K     |████████████████████████████████| 332.1MB 49kB/s \n",
            "\u001b[?25hRequirement already satisfied: astor>=0.6.0 in /usr/local/lib/python3.6/dist-packages (from tensorflow-gpu==2.0.0-alpha0) (0.8.1)\n",
            "Requirement already satisfied: protobuf>=3.6.1 in /usr/local/lib/python3.6/dist-packages (from tensorflow-gpu==2.0.0-alpha0) (3.10.0)\n",
            "Requirement already satisfied: wheel>=0.26 in /usr/local/lib/python3.6/dist-packages (from tensorflow-gpu==2.0.0-alpha0) (0.34.2)\n",
            "Collecting tf-estimator-nightly<1.14.0.dev2019030116,>=1.14.0.dev2019030115\n",
            "\u001b[?25l  Downloading https://files.pythonhosted.org/packages/13/82/f16063b4eed210dc2ab057930ac1da4fbe1e91b7b051a6c8370b401e6ae7/tf_estimator_nightly-1.14.0.dev2019030115-py2.py3-none-any.whl (411kB)\n",
            "\u001b[K     |████████████████████████████████| 419kB 33.8MB/s \n",
            "\u001b[?25hRequirement already satisfied: keras-preprocessing>=1.0.5 in /usr/local/lib/python3.6/dist-packages (from tensorflow-gpu==2.0.0-alpha0) (1.1.2)\n",
            "Requirement already satisfied: absl-py>=0.7.0 in /usr/local/lib/python3.6/dist-packages (from tensorflow-gpu==2.0.0-alpha0) (0.9.0)\n",
            "Requirement already satisfied: google-pasta>=0.1.2 in /usr/local/lib/python3.6/dist-packages (from tensorflow-gpu==2.0.0-alpha0) (0.2.0)\n",
            "Requirement already satisfied: gast>=0.2.0 in /usr/local/lib/python3.6/dist-packages (from tensorflow-gpu==2.0.0-alpha0) (0.3.3)\n",
            "Requirement already satisfied: six>=1.10.0 in /usr/local/lib/python3.6/dist-packages (from tensorflow-gpu==2.0.0-alpha0) (1.12.0)\n",
            "Requirement already satisfied: numpy<2.0,>=1.14.5 in /usr/local/lib/python3.6/dist-packages (from tensorflow-gpu==2.0.0-alpha0) (1.18.5)\n",
            "Collecting tb-nightly<1.14.0a20190302,>=1.14.0a20190301\n",
            "\u001b[?25l  Downloading https://files.pythonhosted.org/packages/a9/51/aa1d756644bf4624c03844115e4ac4058eff77acd786b26315f051a4b195/tb_nightly-1.14.0a20190301-py3-none-any.whl (3.0MB)\n",
            "\u001b[K     |████████████████████████████████| 3.0MB 41.4MB/s \n",
            "\u001b[?25hRequirement already satisfied: grpcio>=1.8.6 in /usr/local/lib/python3.6/dist-packages (from tensorflow-gpu==2.0.0-alpha0) (1.30.0)\n",
            "Requirement already satisfied: keras-applications>=1.0.6 in /usr/local/lib/python3.6/dist-packages (from tensorflow-gpu==2.0.0-alpha0) (1.0.8)\n",
            "Requirement already satisfied: termcolor>=1.1.0 in /usr/local/lib/python3.6/dist-packages (from tensorflow-gpu==2.0.0-alpha0) (1.1.0)\n",
            "Requirement already satisfied: setuptools in /usr/local/lib/python3.6/dist-packages (from protobuf>=3.6.1->tensorflow-gpu==2.0.0-alpha0) (47.3.1)\n",
            "Requirement already satisfied: werkzeug>=0.11.15 in /usr/local/lib/python3.6/dist-packages (from tb-nightly<1.14.0a20190302,>=1.14.0a20190301->tensorflow-gpu==2.0.0-alpha0) (1.0.1)\n",
            "Requirement already satisfied: markdown>=2.6.8 in /usr/local/lib/python3.6/dist-packages (from tb-nightly<1.14.0a20190302,>=1.14.0a20190301->tensorflow-gpu==2.0.0-alpha0) (3.2.2)\n",
            "Requirement already satisfied: h5py in /usr/local/lib/python3.6/dist-packages (from keras-applications>=1.0.6->tensorflow-gpu==2.0.0-alpha0) (2.10.0)\n",
            "Requirement already satisfied: importlib-metadata; python_version < \"3.8\" in /usr/local/lib/python3.6/dist-packages (from markdown>=2.6.8->tb-nightly<1.14.0a20190302,>=1.14.0a20190301->tensorflow-gpu==2.0.0-alpha0) (1.6.1)\n",
            "Requirement already satisfied: zipp>=0.5 in /usr/local/lib/python3.6/dist-packages (from importlib-metadata; python_version < \"3.8\"->markdown>=2.6.8->tb-nightly<1.14.0a20190302,>=1.14.0a20190301->tensorflow-gpu==2.0.0-alpha0) (3.1.0)\n",
            "Installing collected packages: tf-estimator-nightly, tb-nightly, tensorflow-gpu\n",
            "Successfully installed tb-nightly-1.14.0a20190301 tensorflow-gpu-2.0.0a0 tf-estimator-nightly-1.14.0.dev2019030115\n"
          ],
          "name": "stdout"
        }
      ]
    },
    {
      "cell_type": "markdown",
      "metadata": {
        "id": "upVRtdehRfnN"
      },
      "source": [
        "Import Libraries"
      ]
    },
    {
      "cell_type": "code",
      "metadata": {
        "id": "iNqT9yW7hYbZ",
        "colab": {
          "base_uri": "https://localhost:8080/",
          "height": 34
        },
        "outputId": "f63edcbd-886a-49f7-c025-1ae0a7afbcd1"
      },
      "source": [
        "from __future__ import absolute_import, division, print_function, unicode_literals;\n",
        "import tensorflow as tf\n",
        "import cv2\n",
        "import numpy as np;\n",
        "from matplotlib import pyplot as plt;\n",
        "import os;\n",
        "import pathlib;\n",
        "import random;\n",
        "import sklearn\n",
        "from sklearn.metrics import classification_report, confusion_matrix;\n",
        "print(tf.__version__)"
      ],
      "execution_count": null,
      "outputs": [
        {
          "output_type": "stream",
          "text": [
            "2.2.0\n"
          ],
          "name": "stdout"
        }
      ]
    },
    {
      "cell_type": "markdown",
      "metadata": {
        "id": "sUP_3-02RqvW"
      },
      "source": [
        "Variable assignment"
      ]
    },
    {
      "cell_type": "code",
      "metadata": {
        "id": "H23jXiu8jHQs"
      },
      "source": [
        "AUTOTUNE = tf.data.experimental.AUTOTUNE;\n",
        "\n",
        "model_loc = '/content/gdrive/My Drive/Refined_Data/saved_model';\n",
        "plant_data = '/content/gdrive/My Drive/Refined_Data/plant_data';\n",
        "\n",
        "img_width = 160;\n",
        "img_height = 160;\n",
        "test_batch_size = 1;\n",
        "train_batch_size = 64;\n",
        "valid_batch_size = 32;\n"
      ],
      "execution_count": null,
      "outputs": []
    },
    {
      "cell_type": "markdown",
      "metadata": {
        "id": "HA08Hh5WRy4H"
      },
      "source": [
        "Helper functions for building dataset"
      ]
    },
    {
      "cell_type": "code",
      "metadata": {
        "id": "uCvI4rOkjORN"
      },
      "source": [
        "def fetch_images_path(data_dir):\n",
        "  images_path = list(data_dir.glob('*/**/*'));\n",
        "  images_path = [str(path) for path in images_path];\n",
        "  random.shuffle(images_path);\n",
        "  return images_path;\n",
        "\n",
        "def get_labels(data_dir):\n",
        "  label_names = sorted(item.name for item in data_dir.glob('*/') if item.is_dir());\n",
        "  label_index = dict((name, index) for index,name in enumerate(label_names));\n",
        "  return label_names, label_index;\n",
        "\n",
        "def generate_images_labels(images_path, label_index):\n",
        "  images_labels = [label_index[pathlib.Path(path).parent.name]\n",
        "                    for path in images_path];\n",
        "  return images_labels;\n",
        "\n",
        "def build_dataset(images_path, images_label):\n",
        "  path_ds = tf.data.Dataset.from_tensor_slices(images_path);\n",
        "  image_ds = path_ds.map(load_images, num_parallel_calls=tf.data.experimental.AUTOTUNE);\n",
        "  label_ds = tf.data.Dataset.from_tensor_slices(tf.cast(images_label, tf.int64));\n",
        "  image_label_ds = tf.data.Dataset.zip((image_ds, label_ds));\n",
        "  return image_label_ds;\n",
        "\n",
        "def load_images(path):\n",
        "  image = tf.io.read_file(path);\n",
        "  image = tf.image.decode_jpeg(image, channels=3);\n",
        "  image = tf.image.resize(image, [160, 160]);\n",
        "  image /= 255.0;\n",
        "  return image;"
      ],
      "execution_count": null,
      "outputs": []
    },
    {
      "cell_type": "markdown",
      "metadata": {
        "id": "V8DABvMwR6Ha"
      },
      "source": [
        "Load Images Path and Get Label Indices"
      ]
    },
    {
      "cell_type": "code",
      "metadata": {
        "id": "aGLtUdSXjYaE",
        "colab": {
          "base_uri": "https://localhost:8080/",
          "height": 85
        },
        "outputId": "1a1b688a-39e0-46e2-f420-52183f65c5d9"
      },
      "source": [
        "data_root = pathlib.Path(plant_data)\n",
        "print(data_root);\n",
        "\n",
        "images_path = fetch_images_path(data_root);\n",
        "\n",
        "label_name, label_index = get_labels(data_root);\n",
        "\n",
        "print(len(images_path));\n",
        "\n",
        "print(label_name);\n",
        "print(label_index);"
      ],
      "execution_count": null,
      "outputs": [
        {
          "output_type": "stream",
          "text": [
            "/content/gdrive/My Drive/Refined_Data/plant_data\n",
            "253\n",
            "['diseased_data', 'healthy_data']\n",
            "{'diseased_data': 0, 'healthy_data': 1}\n"
          ],
          "name": "stdout"
        }
      ]
    },
    {
      "cell_type": "code",
      "metadata": {
        "id": "yHfK1lbzYk5C",
        "colab": {
          "base_uri": "https://localhost:8080/",
          "height": 34
        },
        "outputId": "ae9d72f5-9a98-4186-9ac3-97bf325cbe46"
      },
      "source": [
        "import pandas as pd\n",
        "from google.colab import drive\n",
        "\n",
        "drive.mount('/content/gdrive', force_remount=True)"
      ],
      "execution_count": null,
      "outputs": [
        {
          "output_type": "stream",
          "text": [
            "Mounted at /content/gdrive\n"
          ],
          "name": "stdout"
        }
      ]
    },
    {
      "cell_type": "markdown",
      "metadata": {
        "id": "Mca7CacXSFtN"
      },
      "source": [
        "Splitting Images path in Training, Validation and Test"
      ]
    },
    {
      "cell_type": "code",
      "metadata": {
        "id": "2WIGzALjrJPC",
        "colab": {
          "base_uri": "https://localhost:8080/",
          "height": 85
        },
        "outputId": "13444844-1d59-4166-9a61-49ee37bb48f5"
      },
      "source": [
        "total_images = len(images_path);\n",
        "test_size = tf.cast(tf.math.ceil(total_images * 0.05), tf.int32).numpy();\n",
        "valid_size = tf.cast(tf.math.ceil(total_images * 0.15), tf.int32).numpy();\n",
        "train_size = total_images - test_size - valid_size;\n",
        "\n",
        "print(train_size, valid_size, test_size);\n",
        "\n",
        "test_images_path = images_path[:test_size];\n",
        "valid_images_path = images_path[test_size:test_size+valid_size];\n",
        "train_images_path = images_path[test_size+valid_size:];\n",
        "\n",
        "print(\"Test data size : \", len(test_images_path));\n",
        "print(\"Train data size : \", len(train_images_path));\n",
        "print(\"Train data size : \", len(valid_images_path));"
      ],
      "execution_count": null,
      "outputs": [
        {
          "output_type": "stream",
          "text": [
            "202 38 13\n",
            "Test data size :  13\n",
            "Train data size :  202\n",
            "Train data size :  38\n"
          ],
          "name": "stdout"
        }
      ]
    },
    {
      "cell_type": "markdown",
      "metadata": {
        "id": "GTDjCBkJSPyH"
      },
      "source": [
        "Validating Data Distribution"
      ]
    },
    {
      "cell_type": "code",
      "metadata": {
        "id": "M4_WpQtnrQCs",
        "colab": {
          "base_uri": "https://localhost:8080/",
          "height": 68
        },
        "outputId": "21d47943-8765-4403-9ba5-a5977f82ca2c"
      },
      "source": [
        "def data_dist(images_path):\n",
        "  hl_count = 0;\n",
        "  ds_count = 0;\n",
        "  for y in images_path:\n",
        "    if pathlib.Path(y).parent.name == 'healthy_data':\n",
        "      hl_count = hl_count + 1;\n",
        "    else:\n",
        "      ds_count = ds_count + 1;\n",
        "  return hl_count, ds_count;\n",
        "\n",
        "print(\"Test Data Dist : \", data_dist(test_images_path))\n",
        "print(\"Valid Data Dist : \", data_dist(valid_images_path))\n",
        "print(\"Train Data Dist : \", data_dist(train_images_path))"
      ],
      "execution_count": null,
      "outputs": [
        {
          "output_type": "stream",
          "text": [
            "Test Data Dist :  (2, 11)\n",
            "Valid Data Dist :  (13, 25)\n",
            "Train Data Dist :  (35, 167)\n"
          ],
          "name": "stdout"
        }
      ]
    },
    {
      "cell_type": "markdown",
      "metadata": {
        "id": "ykw2zcU_SU4w"
      },
      "source": [
        "Building Dataset"
      ]
    },
    {
      "cell_type": "code",
      "metadata": {
        "id": "ln1f3JuBrTyT",
        "colab": {
          "base_uri": "https://localhost:8080/",
          "height": 68
        },
        "outputId": "17b1dc75-7f6e-49cb-f20d-410216c390c1"
      },
      "source": [
        "\n",
        "test_labels = generate_images_labels(test_images_path,label_index);\n",
        "valid_labels = generate_images_labels(valid_images_path,label_index);\n",
        "train_labels = generate_images_labels(train_images_path,label_index);\n",
        "\n",
        "test_dataset = build_dataset(test_images_path,test_labels);\n",
        "valid_dataset = build_dataset(valid_images_path,valid_labels);\n",
        "train_dataset = build_dataset(train_images_path,train_labels);\n",
        "\n",
        "print(test_dataset);\n",
        "print(valid_dataset);\n",
        "print(train_dataset);"
      ],
      "execution_count": null,
      "outputs": [
        {
          "output_type": "stream",
          "text": [
            "<ZipDataset shapes: ((160, 160, 3), ()), types: (tf.float32, tf.int64)>\n",
            "<ZipDataset shapes: ((160, 160, 3), ()), types: (tf.float32, tf.int64)>\n",
            "<ZipDataset shapes: ((160, 160, 3), ()), types: (tf.float32, tf.int64)>\n"
          ],
          "name": "stdout"
        }
      ]
    },
    {
      "cell_type": "markdown",
      "metadata": {
        "id": "7wk1pCZQScLy"
      },
      "source": [
        "Configure Train, Validation and Test Dataset"
      ]
    },
    {
      "cell_type": "code",
      "metadata": {
        "id": "1vBsHwC3rXmN",
        "colab": {
          "base_uri": "https://localhost:8080/",
          "height": 139
        },
        "outputId": "ca46fc4a-ece3-4c5a-df3d-399971f0e267"
      },
      "source": [
        "\n",
        "train_ds = train_dataset.cache();\n",
        "train_ds = train_ds.apply(tf.data.experimental.shuffle_and_repeat(buffer_size=len(train_images_path)));\n",
        "train_ds = train_ds.batch(train_batch_size).prefetch(buffer_size=AUTOTUNE);\n",
        "\n",
        "train_steps=tf.math.ceil(len(train_images_path)/train_batch_size).numpy()\n",
        "print(train_steps);\n",
        "\n",
        "valid_ds = valid_dataset.cache();\n",
        "valid_ds = valid_ds.batch(valid_batch_size);\n",
        "valid_ds = valid_ds.prefetch(buffer_size=AUTOTUNE);\n",
        "\n",
        "valid_steps=tf.math.ceil(len(valid_images_path)/valid_batch_size).numpy()\n",
        "print(valid_steps);\n",
        "\n",
        "test_ds = test_dataset.cache();\n",
        "test_ds = test_ds.batch(test_batch_size);\n",
        "test_ds = test_ds.prefetch(buffer_size=AUTOTUNE);\n",
        "\n",
        "test_steps=tf.math.ceil(len(test_images_path)/test_batch_size).numpy()\n",
        "print(test_steps);"
      ],
      "execution_count": null,
      "outputs": [
        {
          "output_type": "stream",
          "text": [
            "WARNING:tensorflow:From <ipython-input-13-4f3deb59a7b9>:3: shuffle_and_repeat (from tensorflow.python.data.experimental.ops.shuffle_ops) is deprecated and will be removed in a future version.\n",
            "Instructions for updating:\n",
            "Use `tf.data.Dataset.shuffle(buffer_size, seed)` followed by `tf.data.Dataset.repeat(count)`. Static tf.data optimizations will take care of using the fused implementation.\n",
            "4.0\n",
            "2.0\n",
            "13.0\n"
          ],
          "name": "stdout"
        }
      ]
    },
    {
      "cell_type": "markdown",
      "metadata": {
        "id": "eF3xUiRdShya"
      },
      "source": [
        "Functions for Plotting"
      ]
    },
    {
      "cell_type": "code",
      "metadata": {
        "id": "SwjgjMZxrcEo"
      },
      "source": [
        "def plotaccuracy(history):\n",
        "  train_acc = history['accuracy'];\n",
        "  val_acc = history['val_accuracy'];\n",
        "\n",
        "  epochs = range(1,len(train_acc)+1);\n",
        "\n",
        "  plt.plot(epochs,train_acc,'b', label=\"Training Accuracy\");\n",
        "  plt.plot(epochs,val_acc,'r', label=\"Validation Accuracy\");\n",
        "  plt.title(\"Training Validation Accuracy\");\n",
        "  plt.legend();\n",
        "  plt.show();\n",
        "  \n",
        "def plotloss(history):\n",
        "  train_loss = history['loss'];\n",
        "  val_loss = history['val_loss'];\n",
        "\n",
        "  epochs = range(1,len(train_loss)+1);\n",
        "\n",
        "  plt.plot(epochs,train_loss,'b', label=\"Training Loss\");\n",
        "  plt.plot(epochs,val_loss,'r', label=\"Validation Loss\");\n",
        "  plt.title(\"Training Validation Loss\");\n",
        "  plt.legend();\n",
        "  plt.show();\n",
        "  return;"
      ],
      "execution_count": null,
      "outputs": []
    },
    {
      "cell_type": "markdown",
      "metadata": {
        "id": "rUIMkWy3SnT8"
      },
      "source": [
        "Model Design and Training"
      ]
    },
    {
      "cell_type": "code",
      "metadata": {
        "id": "NwAI2_W1rmZ9",
        "colab": {
          "base_uri": "https://localhost:8080/",
          "height": 1000
        },
        "outputId": "748e76d8-6545-4706-c5b0-f1ce0890c2b5"
      },
      "source": [
        "def train_vgg16_model(train_dataset, valid_dataset, model_path, train_steps, valid_steps):\n",
        "  conv_base = tf.keras.applications.VGG16(weights='imagenet',include_top=False,input_shape=(160, 160, 3));\n",
        "  conv_base.trainable = False;\n",
        "  model = tf.keras.Sequential()\n",
        "  model.add(conv_base)\n",
        "  model.add(tf.keras.layers.Flatten())\n",
        "  model.add(tf.keras.layers.Dense(512, activation='relu'))\n",
        "  model.add(tf.keras.layers.Dropout(0.5))\n",
        "  model.add(tf.keras.layers.Dense(512, activation='relu'))\n",
        "  model.add(tf.keras.layers.Dense(1, activation='sigmoid'));\n",
        "\n",
        "  model.compile(optimizer=tf.keras.optimizers.Adam(lr=1e-4),loss='binary_crossentropy',metrics=['accuracy']);\n",
        "\n",
        "  earlystop = tf.keras.callbacks.EarlyStopping(patience=10);\n",
        "  reduce_lr = tf.keras.callbacks.ReduceLROnPlateau(monitor='val_loss', factor=0.2,patience=5, min_lr=0.000001);\n",
        "  modelsave = tf.keras.callbacks.ModelCheckpoint(filepath=model_path, save_best_only=True, verbose=1)\n",
        "\n",
        "  model.fit_generator(train_dataset, steps_per_epoch=train_steps, epochs=100, validation_steps=valid_steps,\n",
        "                          validation_data=valid_dataset,callbacks=[earlystop, modelsave, reduce_lr]);\n",
        "  \n",
        "  history = model.history.history;\n",
        "\n",
        "  plotaccuracy(history);\n",
        "  plotloss(history);\n",
        "  \n",
        "  conv_base.trainable = True;\n",
        "  set_trainable = False\n",
        "  for layer in conv_base.layers:\n",
        "    if layer.name == 'block4_conv1':\n",
        "        set_trainable = True\n",
        "    if set_trainable:\n",
        "        layer.trainable = True\n",
        "    else:\n",
        "        layer.trainable = False\n",
        "  \n",
        "  model.compile(optimizer=tf.keras.optimizers.Adam(lr=1e-4),loss='binary_crossentropy',metrics=['accuracy']);\n",
        "  reduce_lr = tf.keras.callbacks.ReduceLROnPlateau(monitor='val_loss', factor=0.2, patience=5, min_lr=0.0000001);\n",
        "  \n",
        "  model.fit_generator(train_dataset, steps_per_epoch=train_steps, epochs=100, validation_steps=valid_steps,\n",
        "                          validation_data=valid_dataset,callbacks=[earlystop, modelsave, reduce_lr]);\n",
        "  \n",
        "  history = model.history.history;\n",
        "\n",
        "  plotaccuracy(history);\n",
        "  plotloss(history);\n",
        "  return model;\n",
        "\n",
        "model_name = os.path.join(model_loc,'pc_tf_fine_160_final.h5');\n",
        "model_vgg16 = train_vgg16_model(train_ds,valid_ds,model_name,train_steps,valid_steps);"
      ],
      "execution_count": null,
      "outputs": [
        {
          "output_type": "stream",
          "text": [
            "Epoch 1/100\n",
            "4/4 [==============================] - ETA: 0s - loss: 0.7895 - accuracy: 0.5938\n",
            "Epoch 00001: val_loss improved from inf to 1.13726, saving model to /content/gdrive/My Drive/Refined_Data/saved_model/pc_tf_fine_160_final.h5\n",
            "4/4 [==============================] - 1s 125ms/step - loss: 0.7895 - accuracy: 0.5938 - val_loss: 1.1373 - val_accuracy: 0.6579 - lr: 1.0000e-04\n",
            "Epoch 2/100\n",
            "4/4 [==============================] - ETA: 0s - loss: 0.5433 - accuracy: 0.8320\n",
            "Epoch 00002: val_loss improved from 1.13726 to 1.09283, saving model to /content/gdrive/My Drive/Refined_Data/saved_model/pc_tf_fine_160_final.h5\n",
            "4/4 [==============================] - 0s 84ms/step - loss: 0.5433 - accuracy: 0.8320 - val_loss: 1.0928 - val_accuracy: 0.6579 - lr: 1.0000e-04\n",
            "Epoch 3/100\n",
            "4/4 [==============================] - ETA: 0s - loss: 0.4937 - accuracy: 0.8242\n",
            "Epoch 00003: val_loss improved from 1.09283 to 0.75914, saving model to /content/gdrive/My Drive/Refined_Data/saved_model/pc_tf_fine_160_final.h5\n",
            "4/4 [==============================] - 0s 84ms/step - loss: 0.4937 - accuracy: 0.8242 - val_loss: 0.7591 - val_accuracy: 0.6579 - lr: 1.0000e-04\n",
            "Epoch 4/100\n",
            "4/4 [==============================] - ETA: 0s - loss: 0.3897 - accuracy: 0.8359\n",
            "Epoch 00004: val_loss improved from 0.75914 to 0.60745, saving model to /content/gdrive/My Drive/Refined_Data/saved_model/pc_tf_fine_160_final.h5\n",
            "4/4 [==============================] - 0s 83ms/step - loss: 0.3897 - accuracy: 0.8359 - val_loss: 0.6074 - val_accuracy: 0.6579 - lr: 1.0000e-04\n",
            "Epoch 5/100\n",
            "4/4 [==============================] - ETA: 0s - loss: 0.4119 - accuracy: 0.8320\n",
            "Epoch 00005: val_loss improved from 0.60745 to 0.59888, saving model to /content/gdrive/My Drive/Refined_Data/saved_model/pc_tf_fine_160_final.h5\n",
            "4/4 [==============================] - 0s 85ms/step - loss: 0.4119 - accuracy: 0.8320 - val_loss: 0.5989 - val_accuracy: 0.6579 - lr: 1.0000e-04\n",
            "Epoch 6/100\n",
            "4/4 [==============================] - ETA: 0s - loss: 0.3373 - accuracy: 0.8516\n",
            "Epoch 00006: val_loss did not improve from 0.59888\n",
            "4/4 [==============================] - 0s 83ms/step - loss: 0.3373 - accuracy: 0.8516 - val_loss: 0.6511 - val_accuracy: 0.6579 - lr: 1.0000e-04\n",
            "Epoch 7/100\n",
            "4/4 [==============================] - ETA: 0s - loss: 0.3352 - accuracy: 0.8086\n",
            "Epoch 00007: val_loss improved from 0.59888 to 0.58711, saving model to /content/gdrive/My Drive/Refined_Data/saved_model/pc_tf_fine_160_final.h5\n",
            "4/4 [==============================] - 0s 84ms/step - loss: 0.3352 - accuracy: 0.8086 - val_loss: 0.5871 - val_accuracy: 0.6579 - lr: 1.0000e-04\n",
            "Epoch 8/100\n",
            "4/4 [==============================] - ETA: 0s - loss: 0.2684 - accuracy: 0.8750\n",
            "Epoch 00008: val_loss improved from 0.58711 to 0.47289, saving model to /content/gdrive/My Drive/Refined_Data/saved_model/pc_tf_fine_160_final.h5\n",
            "4/4 [==============================] - 0s 83ms/step - loss: 0.2684 - accuracy: 0.8750 - val_loss: 0.4729 - val_accuracy: 0.6579 - lr: 1.0000e-04\n",
            "Epoch 9/100\n",
            "4/4 [==============================] - ETA: 0s - loss: 0.2662 - accuracy: 0.8945\n",
            "Epoch 00009: val_loss improved from 0.47289 to 0.43996, saving model to /content/gdrive/My Drive/Refined_Data/saved_model/pc_tf_fine_160_final.h5\n",
            "4/4 [==============================] - 0s 86ms/step - loss: 0.2662 - accuracy: 0.8945 - val_loss: 0.4400 - val_accuracy: 0.6842 - lr: 1.0000e-04\n",
            "Epoch 10/100\n",
            "4/4 [==============================] - ETA: 0s - loss: 0.2350 - accuracy: 0.9023\n",
            "Epoch 00010: val_loss improved from 0.43996 to 0.43800, saving model to /content/gdrive/My Drive/Refined_Data/saved_model/pc_tf_fine_160_final.h5\n",
            "4/4 [==============================] - 0s 85ms/step - loss: 0.2350 - accuracy: 0.9023 - val_loss: 0.4380 - val_accuracy: 0.6842 - lr: 1.0000e-04\n",
            "Epoch 11/100\n",
            "4/4 [==============================] - ETA: 0s - loss: 0.2142 - accuracy: 0.8984\n",
            "Epoch 00011: val_loss improved from 0.43800 to 0.39759, saving model to /content/gdrive/My Drive/Refined_Data/saved_model/pc_tf_fine_160_final.h5\n",
            "4/4 [==============================] - 0s 85ms/step - loss: 0.2142 - accuracy: 0.8984 - val_loss: 0.3976 - val_accuracy: 0.7105 - lr: 1.0000e-04\n",
            "Epoch 12/100\n",
            "4/4 [==============================] - ETA: 0s - loss: 0.1677 - accuracy: 0.9375\n",
            "Epoch 00012: val_loss improved from 0.39759 to 0.33367, saving model to /content/gdrive/My Drive/Refined_Data/saved_model/pc_tf_fine_160_final.h5\n",
            "4/4 [==============================] - 0s 87ms/step - loss: 0.1677 - accuracy: 0.9375 - val_loss: 0.3337 - val_accuracy: 0.8158 - lr: 1.0000e-04\n",
            "Epoch 13/100\n",
            "4/4 [==============================] - ETA: 0s - loss: 0.1502 - accuracy: 0.9531\n",
            "Epoch 00013: val_loss improved from 0.33367 to 0.30122, saving model to /content/gdrive/My Drive/Refined_Data/saved_model/pc_tf_fine_160_final.h5\n",
            "4/4 [==============================] - 0s 85ms/step - loss: 0.1502 - accuracy: 0.9531 - val_loss: 0.3012 - val_accuracy: 0.8421 - lr: 1.0000e-04\n",
            "Epoch 14/100\n",
            "4/4 [==============================] - ETA: 0s - loss: 0.1307 - accuracy: 0.9648\n",
            "Epoch 00014: val_loss did not improve from 0.30122\n",
            "4/4 [==============================] - 0s 83ms/step - loss: 0.1307 - accuracy: 0.9648 - val_loss: 0.3202 - val_accuracy: 0.7895 - lr: 1.0000e-04\n",
            "Epoch 15/100\n",
            "4/4 [==============================] - ETA: 0s - loss: 0.1198 - accuracy: 0.9766\n",
            "Epoch 00015: val_loss improved from 0.30122 to 0.26940, saving model to /content/gdrive/My Drive/Refined_Data/saved_model/pc_tf_fine_160_final.h5\n",
            "4/4 [==============================] - 0s 86ms/step - loss: 0.1198 - accuracy: 0.9766 - val_loss: 0.2694 - val_accuracy: 0.8684 - lr: 1.0000e-04\n",
            "Epoch 16/100\n",
            "4/4 [==============================] - ETA: 0s - loss: 0.0987 - accuracy: 0.9688\n",
            "Epoch 00016: val_loss improved from 0.26940 to 0.23385, saving model to /content/gdrive/My Drive/Refined_Data/saved_model/pc_tf_fine_160_final.h5\n",
            "4/4 [==============================] - 0s 85ms/step - loss: 0.0987 - accuracy: 0.9688 - val_loss: 0.2338 - val_accuracy: 0.9211 - lr: 1.0000e-04\n",
            "Epoch 17/100\n",
            "4/4 [==============================] - ETA: 0s - loss: 0.0902 - accuracy: 0.9805\n",
            "Epoch 00017: val_loss did not improve from 0.23385\n",
            "4/4 [==============================] - 0s 83ms/step - loss: 0.0902 - accuracy: 0.9805 - val_loss: 0.2497 - val_accuracy: 0.8684 - lr: 1.0000e-04\n",
            "Epoch 18/100\n",
            "4/4 [==============================] - ETA: 0s - loss: 0.0624 - accuracy: 0.9922\n",
            "Epoch 00018: val_loss improved from 0.23385 to 0.21872, saving model to /content/gdrive/My Drive/Refined_Data/saved_model/pc_tf_fine_160_final.h5\n",
            "4/4 [==============================] - 0s 84ms/step - loss: 0.0624 - accuracy: 0.9922 - val_loss: 0.2187 - val_accuracy: 0.9211 - lr: 1.0000e-04\n",
            "Epoch 19/100\n",
            "4/4 [==============================] - ETA: 0s - loss: 0.0674 - accuracy: 0.9844\n",
            "Epoch 00019: val_loss improved from 0.21872 to 0.17029, saving model to /content/gdrive/My Drive/Refined_Data/saved_model/pc_tf_fine_160_final.h5\n",
            "4/4 [==============================] - 0s 84ms/step - loss: 0.0674 - accuracy: 0.9844 - val_loss: 0.1703 - val_accuracy: 0.9737 - lr: 1.0000e-04\n",
            "Epoch 20/100\n",
            "4/4 [==============================] - ETA: 0s - loss: 0.0645 - accuracy: 0.9961\n",
            "Epoch 00020: val_loss did not improve from 0.17029\n",
            "4/4 [==============================] - 0s 83ms/step - loss: 0.0645 - accuracy: 0.9961 - val_loss: 0.2075 - val_accuracy: 0.9211 - lr: 1.0000e-04\n",
            "Epoch 21/100\n",
            "4/4 [==============================] - ETA: 0s - loss: 0.0453 - accuracy: 1.0000\n",
            "Epoch 00021: val_loss did not improve from 0.17029\n",
            "4/4 [==============================] - 0s 84ms/step - loss: 0.0453 - accuracy: 1.0000 - val_loss: 0.2378 - val_accuracy: 0.8684 - lr: 1.0000e-04\n",
            "Epoch 22/100\n",
            "4/4 [==============================] - ETA: 0s - loss: 0.0343 - accuracy: 1.0000\n",
            "Epoch 00022: val_loss did not improve from 0.17029\n",
            "4/4 [==============================] - 0s 84ms/step - loss: 0.0343 - accuracy: 1.0000 - val_loss: 0.2184 - val_accuracy: 0.8684 - lr: 1.0000e-04\n",
            "Epoch 23/100\n",
            "4/4 [==============================] - ETA: 0s - loss: 0.0371 - accuracy: 0.9961\n",
            "Epoch 00023: val_loss did not improve from 0.17029\n",
            "4/4 [==============================] - 0s 85ms/step - loss: 0.0371 - accuracy: 0.9961 - val_loss: 0.2111 - val_accuracy: 0.8684 - lr: 1.0000e-04\n",
            "Epoch 24/100\n",
            "4/4 [==============================] - ETA: 0s - loss: 0.0264 - accuracy: 1.0000\n",
            "Epoch 00024: val_loss did not improve from 0.17029\n",
            "4/4 [==============================] - 0s 82ms/step - loss: 0.0264 - accuracy: 1.0000 - val_loss: 0.1778 - val_accuracy: 0.9474 - lr: 1.0000e-04\n",
            "Epoch 25/100\n",
            "4/4 [==============================] - ETA: 0s - loss: 0.0225 - accuracy: 1.0000\n",
            "Epoch 00025: val_loss did not improve from 0.17029\n",
            "4/4 [==============================] - 0s 84ms/step - loss: 0.0225 - accuracy: 1.0000 - val_loss: 0.1819 - val_accuracy: 0.9474 - lr: 2.0000e-05\n",
            "Epoch 26/100\n",
            "4/4 [==============================] - ETA: 0s - loss: 0.0257 - accuracy: 1.0000\n",
            "Epoch 00026: val_loss did not improve from 0.17029\n",
            "4/4 [==============================] - 0s 83ms/step - loss: 0.0257 - accuracy: 1.0000 - val_loss: 0.1951 - val_accuracy: 0.9211 - lr: 2.0000e-05\n",
            "Epoch 27/100\n",
            "4/4 [==============================] - ETA: 0s - loss: 0.0263 - accuracy: 1.0000\n",
            "Epoch 00027: val_loss did not improve from 0.17029\n",
            "4/4 [==============================] - 0s 84ms/step - loss: 0.0263 - accuracy: 1.0000 - val_loss: 0.2037 - val_accuracy: 0.9211 - lr: 2.0000e-05\n",
            "Epoch 28/100\n",
            "4/4 [==============================] - ETA: 0s - loss: 0.0216 - accuracy: 1.0000\n",
            "Epoch 00028: val_loss did not improve from 0.17029\n",
            "4/4 [==============================] - 0s 84ms/step - loss: 0.0216 - accuracy: 1.0000 - val_loss: 0.2163 - val_accuracy: 0.8947 - lr: 2.0000e-05\n",
            "Epoch 29/100\n",
            "4/4 [==============================] - ETA: 0s - loss: 0.0256 - accuracy: 1.0000\n",
            "Epoch 00029: val_loss did not improve from 0.17029\n",
            "4/4 [==============================] - 0s 86ms/step - loss: 0.0256 - accuracy: 1.0000 - val_loss: 0.2369 - val_accuracy: 0.8684 - lr: 2.0000e-05\n"
          ],
          "name": "stdout"
        },
        {
          "output_type": "display_data",
          "data": {
            "image/png": "[encoded data removed]",
            "text/plain": [
              "<Figure size 432x288 with 1 Axes>"
            ]
          },
          "metadata": {
            "tags": [],
            "needs_background": "light"
          }
        },
        {
          "output_type": "display_data",
          "data": {
            "image/png": "[encoded data removed]",
            "text/plain": [
              "<Figure size 432x288 with 1 Axes>"
            ]
          },
          "metadata": {
            "tags": [],
            "needs_background": "light"
          }
        },
        {
          "output_type": "stream",
          "text": [
            "Epoch 1/100\n",
            "4/4 [==============================] - ETA: 0s - loss: 1.7981 - accuracy: 0.8594\n",
            "Epoch 00001: val_loss did not improve from 0.17029\n",
            "4/4 [==============================] - 1s 150ms/step - loss: 1.7981 - accuracy: 0.8594 - val_loss: 0.8571 - val_accuracy: 0.6842 - lr: 1.0000e-04\n",
            "Epoch 2/100\n",
            "4/4 [==============================] - ETA: 0s - loss: 0.4003 - accuracy: 0.8125\n",
            "Epoch 00002: val_loss did not improve from 0.17029\n",
            "4/4 [==============================] - 0s 112ms/step - loss: 0.4003 - accuracy: 0.8125 - val_loss: 0.4566 - val_accuracy: 0.6842 - lr: 1.0000e-04\n",
            "Epoch 3/100\n",
            "4/4 [==============================] - ETA: 0s - loss: 0.3025 - accuracy: 0.8633\n",
            "Epoch 00003: val_loss did not improve from 0.17029\n",
            "4/4 [==============================] - 0s 113ms/step - loss: 0.3025 - accuracy: 0.8633 - val_loss: 0.9713 - val_accuracy: 0.6579 - lr: 1.0000e-04\n",
            "Epoch 4/100\n",
            "4/4 [==============================] - ETA: 0s - loss: 0.2928 - accuracy: 0.8633\n",
            "Epoch 00004: val_loss did not improve from 0.17029\n",
            "4/4 [==============================] - 0s 113ms/step - loss: 0.2928 - accuracy: 0.8633 - val_loss: 0.4777 - val_accuracy: 0.7368 - lr: 1.0000e-04\n",
            "Epoch 5/100\n",
            "4/4 [==============================] - ETA: 0s - loss: 0.1799 - accuracy: 0.9336\n",
            "Epoch 00005: val_loss did not improve from 0.17029\n",
            "4/4 [==============================] - 0s 112ms/step - loss: 0.1799 - accuracy: 0.9336 - val_loss: 0.5046 - val_accuracy: 0.7368 - lr: 1.0000e-04\n",
            "Epoch 6/100\n",
            "4/4 [==============================] - ETA: 0s - loss: 0.0939 - accuracy: 0.9570\n",
            "Epoch 00006: val_loss did not improve from 0.17029\n",
            "4/4 [==============================] - 0s 114ms/step - loss: 0.0939 - accuracy: 0.9570 - val_loss: 0.3035 - val_accuracy: 0.8158 - lr: 1.0000e-04\n",
            "Epoch 7/100\n",
            "4/4 [==============================] - ETA: 0s - loss: 0.0447 - accuracy: 0.9922\n",
            "Epoch 00007: val_loss did not improve from 0.17029\n",
            "4/4 [==============================] - 0s 113ms/step - loss: 0.0447 - accuracy: 0.9922 - val_loss: 0.2330 - val_accuracy: 0.8684 - lr: 1.0000e-04\n",
            "Epoch 8/100\n",
            "4/4 [==============================] - ETA: 0s - loss: 0.0151 - accuracy: 1.0000\n",
            "Epoch 00008: val_loss did not improve from 0.17029\n",
            "4/4 [==============================] - 0s 111ms/step - loss: 0.0151 - accuracy: 1.0000 - val_loss: 0.3312 - val_accuracy: 0.8947 - lr: 1.0000e-04\n",
            "Epoch 9/100\n",
            "4/4 [==============================] - ETA: 0s - loss: 0.0040 - accuracy: 1.0000\n",
            "Epoch 00009: val_loss did not improve from 0.17029\n",
            "4/4 [==============================] - 0s 114ms/step - loss: 0.0040 - accuracy: 1.0000 - val_loss: 0.2369 - val_accuracy: 0.9211 - lr: 1.0000e-04\n",
            "Epoch 10/100\n",
            "4/4 [==============================] - ETA: 0s - loss: 0.0025 - accuracy: 1.0000\n",
            "Epoch 00010: val_loss did not improve from 0.17029\n",
            "4/4 [==============================] - 0s 111ms/step - loss: 0.0025 - accuracy: 1.0000 - val_loss: 0.2584 - val_accuracy: 0.9211 - lr: 1.0000e-04\n",
            "Epoch 11/100\n",
            "4/4 [==============================] - ETA: 0s - loss: 0.0011 - accuracy: 1.0000\n",
            "Epoch 00011: val_loss did not improve from 0.17029\n",
            "4/4 [==============================] - 0s 112ms/step - loss: 0.0011 - accuracy: 1.0000 - val_loss: 0.3213 - val_accuracy: 0.9211 - lr: 1.0000e-04\n",
            "Epoch 12/100\n",
            "4/4 [==============================] - ETA: 0s - loss: 3.9451e-04 - accuracy: 1.0000\n",
            "Epoch 00012: val_loss did not improve from 0.17029\n",
            "4/4 [==============================] - 0s 111ms/step - loss: 3.9451e-04 - accuracy: 1.0000 - val_loss: 0.4023 - val_accuracy: 0.9211 - lr: 1.0000e-04\n",
            "Epoch 13/100\n",
            "4/4 [==============================] - ETA: 0s - loss: 3.1383e-04 - accuracy: 1.0000\n",
            "Epoch 00013: val_loss did not improve from 0.17029\n",
            "4/4 [==============================] - 0s 112ms/step - loss: 3.1383e-04 - accuracy: 1.0000 - val_loss: 0.4145 - val_accuracy: 0.9211 - lr: 2.0000e-05\n",
            "Epoch 14/100\n",
            "4/4 [==============================] - ETA: 0s - loss: 1.3227e-04 - accuracy: 1.0000\n",
            "Epoch 00014: val_loss did not improve from 0.17029\n",
            "4/4 [==============================] - 0s 111ms/step - loss: 1.3227e-04 - accuracy: 1.0000 - val_loss: 0.4197 - val_accuracy: 0.8947 - lr: 2.0000e-05\n",
            "Epoch 15/100\n",
            "4/4 [==============================] - ETA: 0s - loss: 1.3098e-04 - accuracy: 1.0000\n",
            "Epoch 00015: val_loss did not improve from 0.17029\n",
            "4/4 [==============================] - 0s 111ms/step - loss: 1.3098e-04 - accuracy: 1.0000 - val_loss: 0.4219 - val_accuracy: 0.8947 - lr: 2.0000e-05\n",
            "Epoch 16/100\n",
            "4/4 [==============================] - ETA: 0s - loss: 1.5641e-04 - accuracy: 1.0000\n",
            "Epoch 00016: val_loss did not improve from 0.17029\n",
            "4/4 [==============================] - 0s 111ms/step - loss: 1.5641e-04 - accuracy: 1.0000 - val_loss: 0.4217 - val_accuracy: 0.8947 - lr: 2.0000e-05\n",
            "Epoch 17/100\n",
            "4/4 [==============================] - ETA: 0s - loss: 2.0583e-04 - accuracy: 1.0000\n",
            "Epoch 00017: val_loss did not improve from 0.17029\n",
            "4/4 [==============================] - 0s 112ms/step - loss: 2.0583e-04 - accuracy: 1.0000 - val_loss: 0.4202 - val_accuracy: 0.8947 - lr: 2.0000e-05\n"
          ],
          "name": "stdout"
        },
        {
          "output_type": "display_data",
          "data": {
            "image/png": "[encoded data removed]",
            "text/plain": [
              "<Figure size 432x288 with 1 Axes>"
            ]
          },
          "metadata": {
            "tags": [],
            "needs_background": "light"
          }
        },
        {
          "output_type": "display_data",
          "data": {
            "image/png": "[encoded data removed]",
            "text/plain": [
              "<Figure size 432x288 with 1 Axes>"
            ]
          },
          "metadata": {
            "tags": [],
            "needs_background": "light"
          }
        }
      ]
    },
    {
      "cell_type": "markdown",
      "metadata": {
        "id": "z0UhLrRgSs8I"
      },
      "source": [
        "Test Data Accuracy and Report"
      ]
    },
    {
      "cell_type": "code",
      "metadata": {
        "id": "6aCMe03VxF3z",
        "colab": {
          "base_uri": "https://localhost:8080/",
          "height": 102
        },
        "outputId": "81176a1a-71aa-4401-fba9-f7ebf8fe218e"
      },
      "source": [
        "\n",
        "predictions = model_vgg16.predict_generator(test_ds, steps=test_steps,verbose=1);\n",
        "\n",
        "predicted_classes = [];\n",
        "for i in predictions:\n",
        "  if i >= 0.5:\n",
        "    predicted_classes.append(1)\n",
        "  else:\n",
        "    predicted_classes.append(0);\n",
        "    \n",
        "\n",
        "#report = classification_report(test_labels, predicted_classes, target_names=label_name)\n",
        "#print(report)\n",
        "\n",
        "print(sklearn.metrics.f1_score(test_labels, predicted_classes,average='micro'))\n",
        "\n",
        "conf_matrix = confusion_matrix(y_true=test_labels, y_pred=predicted_classes)\n",
        "print(conf_matrix)"
      ],
      "execution_count": null,
      "outputs": [
        {
          "output_type": "stream",
          "text": [
            "13/13 [==============================] - 0s 5ms/step\n",
            "0.9230769230769231\n",
            "[0, 1, 0, 0, 0, 0, 0, 0, 0, 0, 0, 0, 0]\n",
            "[[11  0]\n",
            " [ 1  1]]\n"
          ],
          "name": "stdout"
        }
      ]
    }
  ]
}